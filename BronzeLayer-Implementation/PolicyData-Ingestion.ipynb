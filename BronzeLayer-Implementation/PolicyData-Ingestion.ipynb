{
 "cells": [
  {
   "cell_type": "code",
   "execution_count": 0,
   "metadata": {
    "application/vnd.databricks.v1+cell": {
     "cellMetadata": {
      "byteLimit": 2048000,
      "rowLimit": 10000
     },
     "inputWidgets": {},
     "nuid": "08ad90df-6236-4429-aea7-4c5b9e13bb57",
     "showTitle": false,
     "tableResultSettingsMap": {},
     "title": ""
    }
   },
   "outputs": [],
   "source": [
    "from pyspark.sql.functions import *\n",
    "policy_schema = \"policy_id int,policy_type string, customer_id int,start_date timestamp, end_date timestamp, premium double, coverage_amount double\"\n",
    "df = spark.read.json(\"/mnt/landing/PolicyData\", schema=policy_schema)\n",
    "df_merge_col= df.withColumn(\"merge_flag\", lit(False))\n",
    "#df_merge_col.show()\n",
    "df_merge_col.write.option(\"path\", \"/mnt/bronzelayer/Policy\").mode(\"append\").saveAsTable(\"bronzelayer.Policy\")"
   ]
  },
  {
   "cell_type": "code",
   "execution_count": 0,
   "metadata": {
    "application/vnd.databricks.v1+cell": {
     "cellMetadata": {
      "byteLimit": 2048000,
      "implicitDf": true,
      "rowLimit": 10000
     },
     "inputWidgets": {},
     "nuid": "1b3ca063-5b3f-4961-a52b-8368a69fcfb6",
     "showTitle": false,
     "tableResultSettingsMap": {},
     "title": ""
    }
   },
   "outputs": [],
   "source": [
    "%sql\n",
    "select * from bronzelayer.Policy"
   ]
  },
  {
   "cell_type": "code",
   "execution_count": 0,
   "metadata": {
    "application/vnd.databricks.v1+cell": {
     "cellMetadata": {
      "byteLimit": 2048000,
      "rowLimit": 10000
     },
     "inputWidgets": {},
     "nuid": "22905796-cefe-47b2-a498-6ceff80eb3c7",
     "showTitle": false,
     "tableResultSettingsMap": {},
     "title": ""
    }
   },
   "outputs": [],
   "source": [
    "from datetime import *\n",
    "\n",
    "def getFilePathWithDates(filePath):\n",
    "    today_date = datetime.now().strftime('%Y-%m-%d')\n",
    "    new_file_path = filePath + '/' + today_date\n",
    "    return new_file_path"
   ]
  },
  {
   "cell_type": "code",
   "execution_count": 0,
   "metadata": {
    "application/vnd.databricks.v1+cell": {
     "cellMetadata": {
      "byteLimit": 2048000,
      "rowLimit": 10000
     },
     "inputWidgets": {},
     "nuid": "c76d5fc9-5b22-43f7-9a3c-8c5031dc982c",
     "showTitle": false,
     "tableResultSettingsMap": {},
     "title": ""
    }
   },
   "outputs": [],
   "source": [
    "# Copy files from source to destination\n",
    "dbutils.fs.cp(\"/mnt/landing/PolicyData/\", getFilePathWithDates('/mnt/processed/PolicyData'), recurse=True)\n",
    "\n",
    "# Remove files from the source directory\n",
    "dbutils.fs.rm(\"/mnt/landing/PolicyData/\", recurse=True)"
   ]
  }
 ],
 "metadata": {
  "application/vnd.databricks.v1+notebook": {
   "computePreferences": null,
   "dashboards": [],
   "environmentMetadata": {
    "base_environment": "",
    "client": "1"
   },
   "language": "python",
   "notebookMetadata": {
    "mostRecentlyExecutedCommandWithImplicitDF": {
     "commandId": 2266823842209355,
     "dataframes": [
      "_sqldf"
     ]
    },
    "pythonIndentUnit": 4
   },
   "notebookName": "PolicyData-Ingestion",
   "widgets": {}
  },
  "language_info": {
   "name": "python"
  }
 },
 "nbformat": 4,
 "nbformat_minor": 0
}
