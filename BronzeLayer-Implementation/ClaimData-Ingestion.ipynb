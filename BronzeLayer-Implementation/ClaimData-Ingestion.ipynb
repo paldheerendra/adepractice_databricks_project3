{
 "cells": [
  {
   "cell_type": "code",
   "execution_count": 0,
   "metadata": {
    "application/vnd.databricks.v1+cell": {
     "cellMetadata": {
      "byteLimit": 2048000,
      "rowLimit": 10000
     },
     "inputWidgets": {},
     "nuid": "736eb6d8-a254-4267-a908-435bcf8e343b",
     "showTitle": false,
     "tableResultSettingsMap": {},
     "title": ""
    }
   },
   "outputs": [],
   "source": [
    "from pyspark.sql.functions import *\n",
    "claim_schema = \"claim_id int, policy_id int, date_of_claim timestamp, claim_amount double, claim_status string, LastUpdatedTimeStamp timestamp\"\n",
    "df = spark.read.parquet(\"/mnt/landing/ClaimData/*.parquet\", inferschema = False, schema= claim_schema)\n",
    "df_merge_col= df.withColumn(\"merge_flag\", lit(False))\n",
    "df_merge_col.write.option(\"path\", \"/mnt/bronzelayer/Claim\").mode(\"append\").saveAsTable(\"bronzelayer.Claim\")\n"
   ]
  },
  {
   "cell_type": "code",
   "execution_count": 0,
   "metadata": {
    "application/vnd.databricks.v1+cell": {
     "cellMetadata": {
      "byteLimit": 2048000,
      "implicitDf": true,
      "rowLimit": 10000
     },
     "inputWidgets": {},
     "nuid": "167fbd1d-d141-4100-8563-36c5423950a5",
     "showTitle": false,
     "tableResultSettingsMap": {},
     "title": ""
    }
   },
   "outputs": [],
   "source": [
    "%sql\n",
    "SELECT * from bronzelayer.Claim"
   ]
  },
  {
   "cell_type": "code",
   "execution_count": 0,
   "metadata": {
    "application/vnd.databricks.v1+cell": {
     "cellMetadata": {
      "byteLimit": 2048000,
      "rowLimit": 10000
     },
     "inputWidgets": {},
     "nuid": "c91f8240-299f-452a-9eb0-0613961c6841",
     "showTitle": false,
     "tableResultSettingsMap": {},
     "title": ""
    }
   },
   "outputs": [],
   "source": [
    "from datetime import *\n",
    "\n",
    "def getFilePathWithDates(filePath):\n",
    "    today_date = datetime.now().strftime('%Y-%m-%d')\n",
    "    new_file_path = filePath + '/' + today_date\n",
    "    return new_file_path"
   ]
  },
  {
   "cell_type": "code",
   "execution_count": 0,
   "metadata": {
    "application/vnd.databricks.v1+cell": {
     "cellMetadata": {
      "byteLimit": 2048000,
      "rowLimit": 10000
     },
     "inputWidgets": {},
     "nuid": "0ed5719c-bb29-42cc-98af-145f8e3d15c1",
     "showTitle": false,
     "tableResultSettingsMap": {},
     "title": ""
    }
   },
   "outputs": [],
   "source": [
    "# Copy files from source to destination\n",
    "dbutils.fs.cp(\"/mnt/landing/ClaimData/\", getFilePathWithDates('/mnt/processed/ClaimData'), recurse=True)\n",
    "\n",
    "# Remove files from the source directory\n",
    "dbutils.fs.rm(\"/mnt/landing/ClaimData/\", recurse=True)"
   ]
  }
 ],
 "metadata": {
  "application/vnd.databricks.v1+notebook": {
   "computePreferences": null,
   "dashboards": [],
   "environmentMetadata": {
    "base_environment": "",
    "client": "1"
   },
   "language": "python",
   "notebookMetadata": {
    "mostRecentlyExecutedCommandWithImplicitDF": {
     "commandId": 2266823842209343,
     "dataframes": [
      "_sqldf"
     ]
    },
    "pythonIndentUnit": 4
   },
   "notebookName": "ClaimData-Ingestion",
   "widgets": {}
  },
  "language_info": {
   "name": "python"
  }
 },
 "nbformat": 4,
 "nbformat_minor": 0
}
