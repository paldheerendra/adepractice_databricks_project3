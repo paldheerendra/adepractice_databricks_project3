{
 "cells": [
  {
   "cell_type": "code",
   "execution_count": 0,
   "metadata": {
    "application/vnd.databricks.v1+cell": {
     "cellMetadata": {
      "byteLimit": 2048000,
      "rowLimit": 10000
     },
     "inputWidgets": {},
     "nuid": "c3de8c8f-1f8f-43eb-802b-d26b7c3e8d99",
     "showTitle": false,
     "tableResultSettingsMap": {},
     "title": ""
    }
   },
   "outputs": [],
   "source": [
    "from pyspark.sql.functions import *\n",
    "cust_schema = \"customer_id int,first_name string,last_name string,email string,phone string,country string,city string,registration_date timestamp,date_of_birth timestamp,gender string\"\n",
    "df = spark.read.csv(\"/mnt/landing/Customer\", schema=cust_schema, header = True)\n",
    "df_merge_col= df.withColumn(\"merge_flag\", lit(False))\n",
    "#df_merge_col.show()\n",
    "df_merge_col.write.option(\"path\", \"/mnt/bronzelayer/Customer\").mode(\"append\").saveAsTable(\"bronzelayer.Customer\")"
   ]
  },
  {
   "cell_type": "code",
   "execution_count": 0,
   "metadata": {
    "application/vnd.databricks.v1+cell": {
     "cellMetadata": {
      "byteLimit": 2048000,
      "implicitDf": true,
      "rowLimit": 10000
     },
     "inputWidgets": {},
     "nuid": "9c60124b-3209-4318-ad36-e4e819c5b8c6",
     "showTitle": false,
     "tableResultSettingsMap": {},
     "title": ""
    }
   },
   "outputs": [],
   "source": [
    "%sql\n",
    "select * from bronzelayer.Customer"
   ]
  },
  {
   "cell_type": "code",
   "execution_count": 0,
   "metadata": {
    "application/vnd.databricks.v1+cell": {
     "cellMetadata": {
      "byteLimit": 2048000,
      "rowLimit": 10000
     },
     "inputWidgets": {},
     "nuid": "4851ff60-fcf8-4b12-9e56-776b7f6702f7",
     "showTitle": false,
     "tableResultSettingsMap": {},
     "title": ""
    }
   },
   "outputs": [],
   "source": [
    "from datetime import *\n",
    "\n",
    "def getFilePathWithDates(filePath):\n",
    "    today_date = datetime.now().strftime('%Y-%m-%d')\n",
    "    new_file_path = filePath + '/' + today_date\n",
    "    return new_file_path"
   ]
  },
  {
   "cell_type": "code",
   "execution_count": 0,
   "metadata": {
    "application/vnd.databricks.v1+cell": {
     "cellMetadata": {
      "byteLimit": 2048000,
      "rowLimit": 10000
     },
     "inputWidgets": {},
     "nuid": "2acf4a7c-f473-45dd-a97b-d5a0925c6721",
     "showTitle": false,
     "tableResultSettingsMap": {},
     "title": ""
    }
   },
   "outputs": [],
   "source": [
    "# Copy files from source to destination\n",
    "dbutils.fs.cp(\"/mnt/landing/Customer/\", getFilePathWithDates('/mnt/processed/Customer'), recurse=True)\n",
    "\n",
    "# Remove files from the source directory\n",
    "dbutils.fs.rm(\"/mnt/landing/Customer/\", recurse=True)"
   ]
  }
 ],
 "metadata": {
  "application/vnd.databricks.v1+notebook": {
   "computePreferences": null,
   "dashboards": [],
   "environmentMetadata": {
    "base_environment": "",
    "client": "1"
   },
   "language": "python",
   "notebookMetadata": {
    "mostRecentlyExecutedCommandWithImplicitDF": {
     "commandId": 2266823842209349,
     "dataframes": [
      "_sqldf"
     ]
    },
    "pythonIndentUnit": 4
   },
   "notebookName": "Customer-Ingestion",
   "widgets": {}
  },
  "language_info": {
   "name": "python"
  }
 },
 "nbformat": 4,
 "nbformat_minor": 0
}
