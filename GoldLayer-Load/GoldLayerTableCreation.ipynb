{
 "cells": [
  {
   "cell_type": "markdown",
   "metadata": {
    "application/vnd.databricks.v1+cell": {
     "cellMetadata": {},
     "inputWidgets": {},
     "nuid": "d96c3608-a566-466c-b7aa-9ac94083a911",
     "showTitle": false,
     "tableResultSettingsMap": {},
     "title": ""
    }
   },
   "source": [
    "<b> Sales By Policy Type and Month: </b>\n",
    "This table would contain the total sales for each policy type and each month. It would be used to analyze the performance of different policy types over time."
   ]
  },
  {
   "cell_type": "code",
   "execution_count": 0,
   "metadata": {
    "application/vnd.databricks.v1+cell": {
     "cellMetadata": {
      "byteLimit": 2048000,
      "implicitDf": true,
      "rowLimit": 10000
     },
     "inputWidgets": {},
     "nuid": "ece21f27-4b07-49c6-af68-1217b21fecf7",
     "showTitle": false,
     "tableResultSettingsMap": {},
     "title": ""
    }
   },
   "outputs": [],
   "source": [
    "%sql\n",
    "CREATE or Replace TABLE goldlayer.Sales_By_Policy_Type_And_Month (\n",
    "\n",
    "policy_type string,\n",
    "sales_month STRING,\n",
    "total_premium INT,\n",
    "updated_timestamp TIMESTAMP\n",
    ")Using DELTA LOCATION '/mnt/goldlayer/Sales_By_Policy_Type_And_Month'"
   ]
  },
  {
   "cell_type": "markdown",
   "metadata": {
    "application/vnd.databricks.v1+cell": {
     "cellMetadata": {},
     "inputWidgets": {},
     "nuid": "33377faf-33a8-402e-a30b-b1bf231198dc",
     "showTitle": false,
     "tableResultSettingsMap": {},
     "title": ""
    }
   },
   "source": [
    "<b>Premiums By Agent and Branch: </b>\n",
    "This table would contain the total premiums earned by each agent and each branch. It would be used to identify the top-performing agents and branches and to allocate resources accordingly."
   ]
  },
  {
   "cell_type": "markdown",
   "metadata": {
    "application/vnd.databricks.v1+cell": {
     "cellMetadata": {},
     "inputWidgets": {},
     "nuid": "93e09a33-5d7c-4695-bbfa-39fa12a07a8e",
     "showTitle": false,
     "tableResultSettingsMap": {},
     "title": ""
    }
   },
   "source": [
    "<b>Claims By Policy Type and Status:</b>\n",
    " This table would contain the number and amount of claims by policy type and claim status. It would be used to monitor the claims process and identify any trends or issues."
   ]
  },
  {
   "cell_type": "code",
   "execution_count": 0,
   "metadata": {
    "application/vnd.databricks.v1+cell": {
     "cellMetadata": {
      "byteLimit": 2048000,
      "implicitDf": true,
      "rowLimit": 10000
     },
     "inputWidgets": {},
     "nuid": "064f72db-2a99-4622-bfd4-0f8761a296e1",
     "showTitle": false,
     "tableResultSettingsMap": {},
     "title": ""
    }
   },
   "outputs": [],
   "source": [
    "%sql\n",
    "CREATE or Replace TABLE goldlayer.Claims_By_Policy_Type_And_Status (\n",
    "policy_type string,\n",
    "claim_status STRING,\n",
    "total_claims INT,\n",
    "total_claim_amount int,\n",
    "updated_timestamp TIMESTAMP\n",
    ")Using DELTA LOCATION '/mnt/goldlayer/Claims_By_Policy_Type_And_Status'"
   ]
  },
  {
   "cell_type": "markdown",
   "metadata": {
    "application/vnd.databricks.v1+cell": {
     "cellMetadata": {},
     "inputWidgets": {},
     "nuid": "ff3a2b90-e090-4caa-abdd-13cd3efb4aa9",
     "showTitle": false,
     "tableResultSettingsMap": {},
     "title": ""
    }
   },
   "source": [
    "**Analyze the claim data based on the policy type like AVG, Max, Min, Count of Claims.**"
   ]
  },
  {
   "cell_type": "code",
   "execution_count": 0,
   "metadata": {
    "application/vnd.databricks.v1+cell": {
     "cellMetadata": {
      "byteLimit": 2048000,
      "implicitDf": true,
      "rowLimit": 10000
     },
     "inputWidgets": {},
     "nuid": "71621921-23fd-4314-a999-e3d1368e7cef",
     "showTitle": false,
     "tableResultSettingsMap": {},
     "title": ""
    }
   },
   "outputs": [],
   "source": [
    "%sql\n",
    "CREATE or Replace TABLE goldlayer.Claims_Analysis (\n",
    "policy_type string,\n",
    "claim_status STRING,\n",
    "avg_claim_amount INT,\n",
    "max_claim_amount int,\n",
    "min_claim_amount int,\n",
    "total_claims int,\n",
    "updated_timestamp TIMESTAMP\n",
    ")Using DELTA LOCATION '/mnt/goldlayer/Claims_Analysis'"
   ]
  },
  {
   "cell_type": "markdown",
   "metadata": {
    "application/vnd.databricks.v1+cell": {
     "cellMetadata": {},
     "inputWidgets": {},
     "nuid": "84a0df05-103a-497e-9a6f-2ba7cad86646",
     "showTitle": false,
     "tableResultSettingsMap": {},
     "title": ""
    }
   },
   "source": [
    "<b>Sales By Agent and Branch: </b>\n",
    "This table would contain the total sales for each agent and each branch. It would be used to identify the top-performing agents and branches and to allocate resources accordingly."
   ]
  }
 ],
 "metadata": {
  "application/vnd.databricks.v1+notebook": {
   "computePreferences": null,
   "dashboards": [],
   "environmentMetadata": null,
   "language": "python",
   "notebookMetadata": {
    "mostRecentlyExecutedCommandWithImplicitDF": {
     "commandId": 549416432701876,
     "dataframes": [
      "_sqldf"
     ]
    },
    "pythonIndentUnit": 4
   },
   "notebookName": "GoldLayerTableCreation",
   "widgets": {}
  },
  "language_info": {
   "name": "python"
  }
 },
 "nbformat": 4,
 "nbformat_minor": 0
}
