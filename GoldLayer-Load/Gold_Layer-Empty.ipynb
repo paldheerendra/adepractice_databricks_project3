{
 "cells": [
  {
   "cell_type": "markdown",
   "metadata": {
    "application/vnd.databricks.v1+cell": {
     "cellMetadata": {},
     "inputWidgets": {},
     "nuid": "aa7260f4-dfc6-4c81-ae6b-90d5bcc85648",
     "showTitle": false,
     "tableResultSettingsMap": {},
     "title": ""
    }
   },
   "source": [
    "<b> Sales By Policy Type and Month: </b>\n",
    "This table would contain the total sales for each policy type and each month. It would be used to analyze the performance of different policy types over time."
   ]
  },
  {
   "cell_type": "markdown",
   "metadata": {
    "application/vnd.databricks.v1+cell": {
     "cellMetadata": {},
     "inputWidgets": {},
     "nuid": "75cb431b-facc-4d48-8080-93f504786a9a",
     "showTitle": false,
     "tableResultSettingsMap": {},
     "title": ""
    }
   },
   "source": [
    "<b>Premiums By Agent and Branch: </b>\n",
    "This table would contain the total premiums earned by each agent and each branch. It would be used to identify the top-performing agents and branches and to allocate resources accordingly."
   ]
  },
  {
   "cell_type": "markdown",
   "metadata": {
    "application/vnd.databricks.v1+cell": {
     "cellMetadata": {},
     "inputWidgets": {},
     "nuid": "136b3bbf-c04f-4e62-ad14-497e1da0b62d",
     "showTitle": false,
     "tableResultSettingsMap": {},
     "title": ""
    }
   },
   "source": [
    "<b>Claims By Policy Type and Status:</b>\n",
    " This table would contain the number and amount of claims by policy type and claim status. It would be used to monitor the claims process and identify any trends or issues."
   ]
  },
  {
   "cell_type": "markdown",
   "metadata": {
    "application/vnd.databricks.v1+cell": {
     "cellMetadata": {},
     "inputWidgets": {},
     "nuid": "93c21596-068b-4d9f-add2-a70df3d9e46d",
     "showTitle": false,
     "tableResultSettingsMap": {},
     "title": ""
    }
   },
   "source": [
    "<b>Sales By Agent and Branch: </b>\n",
    "This table would contain the total sales for each agent and each branch. It would be used to identify the top-performing agents and branches and to allocate resources accordingly."
   ]
  }
 ],
 "metadata": {
  "application/vnd.databricks.v1+notebook": {
   "computePreferences": null,
   "dashboards": [],
   "environmentMetadata": null,
   "language": "python",
   "notebookMetadata": {},
   "notebookName": "Gold_Layer-Empty",
   "widgets": {}
  },
  "language_info": {
   "name": "python"
  }
 },
 "nbformat": 4,
 "nbformat_minor": 0
}
