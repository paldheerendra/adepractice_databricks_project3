{
 "cells": [
  {
   "cell_type": "markdown",
   "metadata": {
    "application/vnd.databricks.v1+cell": {
     "cellMetadata": {},
     "inputWidgets": {},
     "nuid": "319ae067-e23f-4ec7-a55a-bf883235fd7c",
     "showTitle": false,
     "tableResultSettingsMap": {},
     "title": ""
    }
   },
   "source": [
    "<b> Sales By Policy Type and Month: </b>\n",
    "This table would contain the total sales for each policy type and each month. It would be used to analyze the performance of different policy types over time."
   ]
  },
  {
   "cell_type": "markdown",
   "metadata": {
    "application/vnd.databricks.v1+cell": {
     "cellMetadata": {},
     "inputWidgets": {},
     "nuid": "fc05130a-aa05-4de6-9c3d-0d7d131d14bc",
     "showTitle": false,
     "tableResultSettingsMap": {},
     "title": ""
    }
   },
   "source": [
    "<b>Claims By Policy Type and Status:</b>\n",
    " This table would contain the number and amount of claims by policy type and claim status. It would be used to monitor the claims process and identify any trends or issues."
   ]
  },
  {
   "cell_type": "code",
   "execution_count": 0,
   "metadata": {
    "application/vnd.databricks.v1+cell": {
     "cellMetadata": {
      "byteLimit": 2048000,
      "implicitDf": true,
      "rowLimit": 10000
     },
     "inputWidgets": {},
     "nuid": "101c5fa1-fe59-44d4-9368-a377dc1d71a2",
     "showTitle": false,
     "tableResultSettingsMap": {},
     "title": ""
    }
   },
   "outputs": [],
   "source": [
    "%sql\n",
    "CREATE or Replace temp View vw_Claims_By_Policy_Type_And_Status\n",
    "AS\n",
    "SELECT\n",
    "    policy_type,\n",
    "    claim_status,\n",
    "    count(*) as total_claims,\n",
    "    sum(claim_amount) as total_claim_amount\n",
    "from\n",
    "    silverlayer.claim C \n",
    "    JOIN silverlayer.policy P \n",
    "      on C.policy_id = P.policy_id \n",
    "GROUP BY\n",
    "   policy_type,\n",
    "   claim_status HAVING P.policy_type is NOT NULL;"
   ]
  },
  {
   "cell_type": "code",
   "execution_count": 0,
   "metadata": {
    "application/vnd.databricks.v1+cell": {
     "cellMetadata": {
      "byteLimit": 2048000,
      "implicitDf": true,
      "rowLimit": 10000
     },
     "inputWidgets": {},
     "nuid": "5fde1a91-b367-4c44-b7bf-647dc4c4dfe0",
     "showTitle": false,
     "tableResultSettingsMap": {},
     "title": ""
    }
   },
   "outputs": [],
   "source": [
    "%sql\n",
    "SELECT * from vw_Claims_By_Policy_Type_And_Status"
   ]
  },
  {
   "cell_type": "code",
   "execution_count": 0,
   "metadata": {
    "application/vnd.databricks.v1+cell": {
     "cellMetadata": {
      "byteLimit": 2048000,
      "implicitDf": true,
      "rowLimit": 10000
     },
     "inputWidgets": {},
     "nuid": "bf38cd6e-c67c-4e8b-b867-fec3de6ab8e5",
     "showTitle": false,
     "tableResultSettingsMap": {},
     "title": ""
    }
   },
   "outputs": [],
   "source": [
    "%sql\n",
    "MERGE into goldlayer.claims_by_policy_type_and_status AS T USING vw_Claims_By_Policy_Type_And_Status as S on T.claim_status = S.claim_status and T.policy_type = S.policy_type WHEN MATCHED THEN \n",
    "UPDATE \n",
    "SET T.total_claim_amount = S.total_claim_amount, T.total_claims = S.total_claims, T.updated_timestamp = current_timestamp()\n",
    "WHEN NOT MATCHED THEN\n",
    "INSERT(\n",
    "    policy_type, claim_status, total_claims, total_claim_amount, updated_timestamp\n",
    ")\n",
    "VALUES( \n",
    "    S.policy_type, S.claim_status, S.total_claims, S.total_claim_amount, current_timestamp()\n",
    ")\n"
   ]
  },
  {
   "cell_type": "code",
   "execution_count": 0,
   "metadata": {
    "application/vnd.databricks.v1+cell": {
     "cellMetadata": {
      "byteLimit": 2048000,
      "implicitDf": true,
      "rowLimit": 10000
     },
     "inputWidgets": {},
     "nuid": "aa897365-80c7-4016-b891-d44c08549b1c",
     "showTitle": false,
     "tableResultSettingsMap": {},
     "title": ""
    }
   },
   "outputs": [],
   "source": [
    "%sql\n",
    "SELECT * FROM goldlayer.claims_by_policy_type_and_status;"
   ]
  },
  {
   "cell_type": "code",
   "execution_count": 0,
   "metadata": {
    "application/vnd.databricks.v1+cell": {
     "cellMetadata": {
      "byteLimit": 2048000,
      "rowLimit": 10000
     },
     "collapsed": true,
     "inputWidgets": {},
     "nuid": "b2c0e086-7551-4cba-b9db-fdfa56ade1fd",
     "showTitle": false,
     "tableResultSettingsMap": {},
     "title": ""
    }
   },
   "outputs": [],
   "source": [
    "#df_claims_by_policyType_Status = spark.sql(\"SELECT * from vw_Claims_By_Policy_Type_And_Status\")\n",
    "#df_claims_by_policyType_Status.write.mode(\"append\").option(\"mergeSchema\", \"true\").saveAsTable(\"goldlayer.Claims_By_Policy_Type_And_Status\")"
   ]
  },
  {
   "cell_type": "markdown",
   "metadata": {
    "application/vnd.databricks.v1+cell": {
     "cellMetadata": {},
     "inputWidgets": {},
     "nuid": "64d6c139-3f76-4f5e-be97-fb4bb5ed1c19",
     "showTitle": false,
     "tableResultSettingsMap": {},
     "title": ""
    }
   },
   "source": [
    "<b>\n",
    "Analyze the claim data based on the policy type like AVG, MAX, MIN, Count of claim."
   ]
  },
  {
   "cell_type": "code",
   "execution_count": 0,
   "metadata": {
    "application/vnd.databricks.v1+cell": {
     "cellMetadata": {
      "byteLimit": 2048000,
      "rowLimit": 10000
     },
     "inputWidgets": {},
     "nuid": "497fe338-aa48-420f-84df-f1ddf253e8ff",
     "showTitle": false,
     "tableResultSettingsMap": {},
     "title": ""
    }
   },
   "outputs": [],
   "source": [
    "df_claim_analysis= spark.sql(\"SELECT policy_type, avg(C.claim_amount) As avg_claim_amount, max(C.claim_amount) As max_claim_amount, min(C.claim_amount) As min_claim_amount, count(DISTINCT C.claim_id) As total_claims FROM silverlayer.claim C JOIN silverlayer.policy P on C.policy_id = P.policy_id GROUP BY P.policy_type HAVING policy_type is NOT NULL\")\n",
    "\n",
    "display(df_claim_analysis)"
   ]
  },
  {
   "cell_type": "code",
   "execution_count": 0,
   "metadata": {
    "application/vnd.databricks.v1+cell": {
     "cellMetadata": {
      "byteLimit": 2048000,
      "rowLimit": 10000
     },
     "inputWidgets": {},
     "nuid": "b45240e3-8e8b-4e37-a2af-042107649275",
     "showTitle": false,
     "tableResultSettingsMap": {},
     "title": ""
    }
   },
   "outputs": [],
   "source": [
    "from pyspark.sql.functions import *\n",
    "df_merged_date_timestamp= df_claim_analysis.withColumn(\"updated_timestamp\" , current_timestamp())\n",
    "df_merged_date_timestamp.write.mode(\"overwrite\").option(\"mergeSchema\", \"true\").saveAsTable(\"goldlayer.Claim_Analysis\")"
   ]
  },
  {
   "cell_type": "code",
   "execution_count": 0,
   "metadata": {
    "application/vnd.databricks.v1+cell": {
     "cellMetadata": {
      "byteLimit": 2048000,
      "implicitDf": true,
      "rowLimit": 10000
     },
     "inputWidgets": {},
     "nuid": "4e903a30-1b89-4ef9-a4d0-c29307ceebed",
     "showTitle": false,
     "tableResultSettingsMap": {},
     "title": ""
    }
   },
   "outputs": [],
   "source": [
    "%sql\n",
    "select * from goldlayer.Claim_Analysis"
   ]
  }
 ],
 "metadata": {
  "application/vnd.databricks.v1+notebook": {
   "computePreferences": null,
   "dashboards": [],
   "environmentMetadata": null,
   "language": "python",
   "notebookMetadata": {
    "mostRecentlyExecutedCommandWithImplicitDF": {
     "commandId": 549416432701893,
     "dataframes": [
      "_sqldf"
     ]
    },
    "pythonIndentUnit": 4
   },
   "notebookName": "GoldLayer-DataLoad",
   "widgets": {}
  },
  "language_info": {
   "name": "python"
  }
 },
 "nbformat": 4,
 "nbformat_minor": 0
}
