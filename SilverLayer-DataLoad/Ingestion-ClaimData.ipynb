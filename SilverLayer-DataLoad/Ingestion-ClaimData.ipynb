{
 "cells": [
  {
   "cell_type": "markdown",
   "metadata": {
    "application/vnd.databricks.v1+cell": {
     "cellMetadata": {},
     "inputWidgets": {},
     "nuid": "5224b583-cfb4-4f9d-bb74-cccd317a2c33",
     "showTitle": false,
     "tableResultSettingsMap": {},
     "title": ""
    }
   },
   "source": [
    "<b>Remove all where claim_id, policy_id is ,claim status,claim_amount,lastupdated null\n"
   ]
  },
  {
   "cell_type": "code",
   "execution_count": 0,
   "metadata": {
    "application/vnd.databricks.v1+cell": {
     "cellMetadata": {
      "byteLimit": 2048000,
      "rowLimit": 10000
     },
     "inputWidgets": {},
     "nuid": "ee6efcc1-b500-4c7f-b03a-473b6d91c863",
     "showTitle": false,
     "tableResultSettingsMap": {},
     "title": ""
    }
   },
   "outputs": [],
   "source": [
    "#Write your code here\n",
    "df = spark.sql(\"SELECT * FROM bronzelayer.claim WHERE merge_flag = FALSE and claim_id is NOT NULL and policy_id is NOT NULL and claim_status is NOT NULL and claim_amount is NOT NULL and LastUpdatedTimeStamp is NOT NULL\")\n",
    "display(df)"
   ]
  },
  {
   "cell_type": "markdown",
   "metadata": {
    "application/vnd.databricks.v1+cell": {
     "cellMetadata": {},
     "inputWidgets": {},
     "nuid": "2fdb7b19-f59b-4ecf-bee6-094ffb6d61f7",
     "showTitle": false,
     "tableResultSettingsMap": {},
     "title": ""
    }
   },
   "source": [
    "<b>Remove all rows where policy_id Id not exist in Policy table\n"
   ]
  },
  {
   "cell_type": "code",
   "execution_count": 0,
   "metadata": {
    "application/vnd.databricks.v1+cell": {
     "cellMetadata": {
      "byteLimit": 2048000,
      "rowLimit": 10000
     },
     "collapsed": true,
     "inputWidgets": {},
     "nuid": "3e494ab4-8095-4a16-af25-e60cc5790403",
     "showTitle": false,
     "tableResultSettingsMap": {},
     "title": ""
    }
   },
   "outputs": [],
   "source": [
    "#Write your code here\n",
    "df = spark.sql(\"SELECT C.* FROM bronzelayer.claim C INNER JOIN bronzelayer.policy P ON C.policy_id = P.policy_id WHERE C.merge_flag = FALSE and C.claim_id is NOT NULL and C.policy_id is NOT NULL and C.claim_status is NOT NULL and C.claim_amount is NOT NULL and C.LastUpdatedTimeStamp is NOT NULL\")\n",
    "display(df)\n",
    "    "
   ]
  },
  {
   "cell_type": "markdown",
   "metadata": {
    "application/vnd.databricks.v1+cell": {
     "cellMetadata": {},
     "inputWidgets": {},
     "nuid": "d94b0aa0-34d2-46bd-9451-a52c503c7c6e",
     "showTitle": false,
     "tableResultSettingsMap": {},
     "title": ""
    }
   },
   "source": [
    "<b>Convert date_of_claim to Date column with formate (MM-dd-yyyy)\n"
   ]
  },
  {
   "cell_type": "code",
   "execution_count": 0,
   "metadata": {
    "application/vnd.databricks.v1+cell": {
     "cellMetadata": {
      "byteLimit": 2048000,
      "rowLimit": 10000
     },
     "inputWidgets": {},
     "nuid": "03b82136-67e3-4c59-98d5-3d3fc8965fc2",
     "showTitle": false,
     "tableResultSettingsMap": {},
     "title": ""
    }
   },
   "outputs": [],
   "source": [
    "#Write your code here\n",
    "df = spark.sql(\"SELECT C.claim_id, C.policy_id, date_format(C.date_of_claim, 'MM-dd-yyyy') as date_of_claim , C.claim_amount, C.claim_status, C.LastUpdatedTimeStamp FROM bronzelayer.claim C INNER JOIN bronzelayer.policy P ON C.policy_id = P.policy_id WHERE C.merge_flag = FALSE and C.claim_id is NOT NULL and C.policy_id is NOT NULL and C.claim_status is NOT NULL and C.claim_amount is NOT NULL and C.LastUpdatedTimeStamp is NOT NULL\")\n",
    "display(df)"
   ]
  },
  {
   "cell_type": "markdown",
   "metadata": {
    "application/vnd.databricks.v1+cell": {
     "cellMetadata": {},
     "inputWidgets": {},
     "nuid": "fe75cdba-773c-4054-b20a-76d36e224003",
     "showTitle": false,
     "tableResultSettingsMap": {},
     "title": ""
    }
   },
   "source": [
    "<b>Ensure  claim amount is >0"
   ]
  },
  {
   "cell_type": "code",
   "execution_count": 0,
   "metadata": {
    "application/vnd.databricks.v1+cell": {
     "cellMetadata": {
      "byteLimit": 2048000,
      "rowLimit": 10000
     },
     "inputWidgets": {},
     "nuid": "4ac21cf5-aff0-428f-b435-1ddfc7a41246",
     "showTitle": false,
     "tableResultSettingsMap": {},
     "title": ""
    }
   },
   "outputs": [],
   "source": [
    "#Write your code here\n",
    "df = spark.sql(\"SELECT C.claim_id, C.policy_id, to_date( date_format(C.date_of_claim, 'MM-dd-yyyy')) as date_of_claim , C.claim_amount, C.claim_status, C.LastUpdatedTimeStamp FROM bronzelayer.claim C INNER JOIN bronzelayer.policy P ON C.policy_id = P.policy_id WHERE C.merge_flag = FALSE and C.claim_id is NOT NULL and C.policy_id is NOT NULL and C.claim_status is NOT NULL and C.claim_amount is NOT NULL and C.LastUpdatedTimeStamp is NOT NULL and C.claim_amount > 0\")\n",
    "display(df)"
   ]
  },
  {
   "cell_type": "markdown",
   "metadata": {
    "application/vnd.databricks.v1+cell": {
     "cellMetadata": {},
     "inputWidgets": {},
     "nuid": "bc48bcf0-b160-4830-bf56-28c11cb647f5",
     "showTitle": false,
     "tableResultSettingsMap": {},
     "title": ""
    }
   },
   "source": [
    "<b>Add the merged_date_timestamp (current timesatmp)"
   ]
  },
  {
   "cell_type": "code",
   "execution_count": 0,
   "metadata": {
    "application/vnd.databricks.v1+cell": {
     "cellMetadata": {
      "byteLimit": 2048000,
      "rowLimit": 10000
     },
     "inputWidgets": {},
     "nuid": "92b38f09-e0cd-4ded-a0c8-a9322d2a4288",
     "showTitle": false,
     "tableResultSettingsMap": {},
     "title": ""
    }
   },
   "outputs": [],
   "source": [
    "#Write your code here\n",
    "from pyspark.sql.functions import *\n",
    "df_with_mergetimestamp= df.withColumn(\"merged_timestamp\", current_timestamp())\n",
    "\n",
    "df_with_mergetimestamp.write.mode(\"append\").option(\"mergeSchema\", \"true\").saveAsTable(\"silverlayer.Claim\")"
   ]
  },
  {
   "cell_type": "code",
   "execution_count": 0,
   "metadata": {
    "application/vnd.databricks.v1+cell": {
     "cellMetadata": {
      "byteLimit": 2048000,
      "implicitDf": true,
      "rowLimit": 10000
     },
     "collapsed": true,
     "inputWidgets": {},
     "nuid": "60f8c36f-9509-4f91-bfcf-3036c38e222d",
     "showTitle": false,
     "tableResultSettingsMap": {},
     "title": ""
    }
   },
   "outputs": [],
   "source": [
    "%sql\n",
    "SELECT * from silverlayer.claim"
   ]
  },
  {
   "cell_type": "markdown",
   "metadata": {
    "application/vnd.databricks.v1+cell": {
     "cellMetadata": {},
     "inputWidgets": {},
     "nuid": "8d7530b4-3c21-4036-87f4-86af289e5c2d",
     "showTitle": false,
     "tableResultSettingsMap": {},
     "title": ""
    }
   },
   "source": [
    "<b> Update Flag"
   ]
  },
  {
   "cell_type": "code",
   "execution_count": 0,
   "metadata": {
    "application/vnd.databricks.v1+cell": {
     "cellMetadata": {
      "byteLimit": 2048000,
      "rowLimit": 10000
     },
     "inputWidgets": {},
     "nuid": "2dc3718f-8b28-4ac6-9cee-966ecd0339fd",
     "showTitle": false,
     "tableResultSettingsMap": {},
     "title": ""
    }
   },
   "outputs": [],
   "source": [
    "#Write your code here\n",
    "spark.sql(\"UPDATE bronzelayer.claim SET merge_flag = True WHERE merge_flag = FALSE\")"
   ]
  },
  {
   "cell_type": "markdown",
   "metadata": {
    "application/vnd.databricks.v1+cell": {
     "cellMetadata": {},
     "inputWidgets": {},
     "nuid": "2da460d8-26e4-4029-b4b5-5caef83d4cd5",
     "showTitle": false,
     "tableResultSettingsMap": {},
     "title": ""
    }
   },
   "source": [
    "<b> Extension: You can add the test cases for all the steps"
   ]
  },
  {
   "cell_type": "code",
   "execution_count": 0,
   "metadata": {
    "application/vnd.databricks.v1+cell": {
     "cellMetadata": {},
     "inputWidgets": {},
     "nuid": "a76360ad-bfbd-4f1d-bec0-0b7becc42026",
     "showTitle": false,
     "tableResultSettingsMap": {},
     "title": ""
    }
   },
   "outputs": [],
   "source": [
    "#Write your code here"
   ]
  }
 ],
 "metadata": {
  "application/vnd.databricks.v1+notebook": {
   "computePreferences": null,
   "dashboards": [],
   "environmentMetadata": null,
   "language": "python",
   "notebookMetadata": {
    "mostRecentlyExecutedCommandWithImplicitDF": {
     "commandId": 549416432701835,
     "dataframes": [
      "_sqldf"
     ]
    },
    "pythonIndentUnit": 4
   },
   "notebookName": "Ingestion-ClaimData",
   "widgets": {}
  },
  "language_info": {
   "name": "python"
  }
 },
 "nbformat": 4,
 "nbformat_minor": 0
}
