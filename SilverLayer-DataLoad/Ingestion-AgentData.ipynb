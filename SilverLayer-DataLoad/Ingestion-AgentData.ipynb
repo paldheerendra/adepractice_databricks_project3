{
 "cells": [
  {
   "cell_type": "code",
   "execution_count": 0,
   "metadata": {
    "application/vnd.databricks.v1+cell": {
     "cellMetadata": {
      "byteLimit": 2048000,
      "rowLimit": 10000
     },
     "collapsed": true,
     "inputWidgets": {},
     "nuid": "500966e6-468f-410e-be89-5baf6682cf74",
     "showTitle": false,
     "tableResultSettingsMap": {},
     "title": ""
    }
   },
   "outputs": [],
   "source": [
    "df = spark.sql(\"SELECT * FROM bronzelayer.agent WHERE agent.merge_flag = FALSE\")\n",
    "display(df)"
   ]
  },
  {
   "cell_type": "markdown",
   "metadata": {
    "application/vnd.databricks.v1+cell": {
     "cellMetadata": {},
     "inputWidgets": {},
     "nuid": "2cbeb003-0ecf-41ad-8d73-9784c9c0074b",
     "showTitle": false,
     "tableResultSettingsMap": {},
     "title": ""
    }
   },
   "source": [
    "1. Remove all rows where branch_Id not exist in branch table\n",
    "2. Ensure all phone has valid 10 digits phone number\n",
    "3. Replace all nul email with admin@admin.co\n",
    "4. Add the merged_date with current timestamp "
   ]
  },
  {
   "cell_type": "markdown",
   "metadata": {
    "application/vnd.databricks.v1+cell": {
     "cellMetadata": {},
     "inputWidgets": {},
     "nuid": "73b46d93-6a47-4b82-8acc-c5896c8a76e2",
     "showTitle": false,
     "tableResultSettingsMap": {},
     "title": ""
    }
   },
   "source": [
    "Remove all rows where branch_Id does not exist in branch table"
   ]
  },
  {
   "cell_type": "code",
   "execution_count": 0,
   "metadata": {
    "application/vnd.databricks.v1+cell": {
     "cellMetadata": {
      "byteLimit": 2048000,
      "rowLimit": 10000
     },
     "collapsed": true,
     "inputWidgets": {},
     "nuid": "67c54dc2-5191-4121-b91d-c45ad47988bd",
     "showTitle": false,
     "tableResultSettingsMap": {},
     "title": ""
    }
   },
   "outputs": [],
   "source": [
    "df_branch = spark.sql(\"Select * from bronzelayer.Branch\")\n",
    "df_result = spark.sql(\"SELECT agent.* FROM bronzelayer.agent INNER JOIN bronzelayer.branch on agent.branch_id = branch.branch_id WHERE agent.merge_flag = FALSE\")\n",
    "display(df_result)"
   ]
  },
  {
   "cell_type": "markdown",
   "metadata": {
    "application/vnd.databricks.v1+cell": {
     "cellMetadata": {},
     "inputWidgets": {},
     "nuid": "d3916357-c4e9-4778-b96c-b4456abd57b4",
     "showTitle": false,
     "tableResultSettingsMap": {},
     "title": ""
    }
   },
   "source": [
    "Ensure all phone has valid 10 digits phone number"
   ]
  },
  {
   "cell_type": "code",
   "execution_count": 0,
   "metadata": {
    "application/vnd.databricks.v1+cell": {
     "cellMetadata": {
      "byteLimit": 2048000,
      "rowLimit": 10000
     },
     "inputWidgets": {},
     "nuid": "e116f0fd-b503-40a6-8f0c-b40d2a682372",
     "showTitle": false,
     "tableResultSettingsMap": {},
     "title": ""
    }
   },
   "outputs": [],
   "source": [
    "from pyspark.sql.functions import *\n",
    "\n",
    "df_phone = df_result.filter(length(col(\"agent_phone\") )==10)\n",
    "display(df_phone)\n"
   ]
  },
  {
   "cell_type": "markdown",
   "metadata": {
    "application/vnd.databricks.v1+cell": {
     "cellMetadata": {},
     "inputWidgets": {},
     "nuid": "cc27f7f9-d7a8-4220-a86a-4eec343701a7",
     "showTitle": false,
     "tableResultSettingsMap": {},
     "title": ""
    }
   },
   "source": [
    "Replace all null email with admin@admin.co"
   ]
  },
  {
   "cell_type": "code",
   "execution_count": 0,
   "metadata": {
    "application/vnd.databricks.v1+cell": {
     "cellMetadata": {
      "byteLimit": 2048000,
      "rowLimit": 10000
     },
     "inputWidgets": {},
     "nuid": "5001e631-1e7a-44fd-bebc-1eccf437aa47",
     "showTitle": false,
     "tableResultSettingsMap": {},
     "title": ""
    }
   },
   "outputs": [],
   "source": [
    "#df_email = df_phone.fillna({'agent_email':'admin@admin.co'})\n",
    "df_email = df_phone.withColumn('agent_email', when(col('agent_email') == '', 'admin@admin.co').otherwise(col('agent_email')))\n",
    "display(df_email)"
   ]
  },
  {
   "cell_type": "markdown",
   "metadata": {
    "application/vnd.databricks.v1+cell": {
     "cellMetadata": {},
     "inputWidgets": {},
     "nuid": "4ace10b5-372a-485c-8600-960df96c8939",
     "showTitle": false,
     "tableResultSettingsMap": {},
     "title": ""
    }
   },
   "source": [
    "Add the merged_date with current timestamp"
   ]
  },
  {
   "cell_type": "code",
   "execution_count": 0,
   "metadata": {
    "application/vnd.databricks.v1+cell": {
     "cellMetadata": {
      "byteLimit": 2048000,
      "rowLimit": 10000
     },
     "inputWidgets": {},
     "nuid": "d771b64d-2784-4f2d-9204-5643904dc631",
     "showTitle": false,
     "tableResultSettingsMap": {},
     "title": ""
    }
   },
   "outputs": [],
   "source": [
    "# df_email.createOrReplaceTempView(\"clean_agent\")\n",
    "# spark.sql(\"merge into silverlayer.agent as T using clean_agent as S on t.agent_id = s.agent_id when matched THEN UPDATE SET t.agent_phone = s.agent_phone, t.agent_name = s.agent_name, t.agent_email = s.agent_email, t.agent_phone = s.agent_phone, t.branch_id = s.branch_id, t.create_timestamp = s.create_timestamp, t.merged_timestamp = current_timestamp() when not matched then INSERT (agent_phone, agent_name ,agent_email,agent_phone, branch_id, create_timestamp, merged_timestamp) values( s.agent_phone, s.agent_name,  s.agent_email, s.agent_phone, s.branch_id, s.create_timestamp, current_timestamp())\")\n",
    "\n",
    "df_merged_dt= df_email.withColumn(\"merged_timestamp\", current_timestamp())\n",
    "display(df_merged_dt)\n"
   ]
  },
  {
   "cell_type": "markdown",
   "metadata": {
    "application/vnd.databricks.v1+cell": {
     "cellMetadata": {},
     "inputWidgets": {},
     "nuid": "fe124796-1ba5-4ec1-970b-fa67bc37d6a6",
     "showTitle": false,
     "tableResultSettingsMap": {},
     "title": ""
    }
   },
   "source": [
    "writing into silverlayer db"
   ]
  },
  {
   "cell_type": "code",
   "execution_count": 0,
   "metadata": {
    "application/vnd.databricks.v1+cell": {
     "cellMetadata": {
      "byteLimit": 2048000,
      "rowLimit": 10000
     },
     "inputWidgets": {},
     "nuid": "c80f2bd7-e707-4cb2-af32-679186ce2f9d",
     "showTitle": false,
     "tableResultSettingsMap": {},
     "title": ""
    }
   },
   "outputs": [],
   "source": [
    "df_merged_dt.write.mode(\"overwrite\").option(\"mergeSchema\", \"true\").saveAsTable(\"silverlayer.Agent\")"
   ]
  },
  {
   "cell_type": "code",
   "execution_count": 0,
   "metadata": {
    "application/vnd.databricks.v1+cell": {
     "cellMetadata": {
      "byteLimit": 2048000,
      "implicitDf": true,
      "rowLimit": 10000
     },
     "collapsed": true,
     "inputWidgets": {},
     "nuid": "5d8d5a9e-15c1-416c-8f79-2ba205f3da44",
     "showTitle": false,
     "tableResultSettingsMap": {},
     "title": ""
    }
   },
   "outputs": [],
   "source": [
    "%sql\n",
    "select * from silverlayer.agent"
   ]
  },
  {
   "cell_type": "markdown",
   "metadata": {
    "application/vnd.databricks.v1+cell": {
     "cellMetadata": {},
     "inputWidgets": {},
     "nuid": "abd34309-c30d-46a1-a33f-ed01df2c779a",
     "showTitle": false,
     "tableResultSettingsMap": {},
     "title": ""
    }
   },
   "source": [
    "Update bronzelayer merge_flag =tru"
   ]
  },
  {
   "cell_type": "code",
   "execution_count": 0,
   "metadata": {
    "application/vnd.databricks.v1+cell": {
     "cellMetadata": {
      "byteLimit": 2048000,
      "rowLimit": 10000
     },
     "inputWidgets": {},
     "nuid": "b6c883ae-740d-4d60-9a39-eaf5fd7a302e",
     "showTitle": false,
     "tableResultSettingsMap": {},
     "title": ""
    }
   },
   "outputs": [],
   "source": [
    "spark.sql(\"UPDATE bronzelayer.agent SET merge_flag = True WHERE merge_flag = FALSE\")"
   ]
  }
 ],
 "metadata": {
  "application/vnd.databricks.v1+notebook": {
   "computePreferences": null,
   "dashboards": [],
   "environmentMetadata": {
    "base_environment": "",
    "client": "1"
   },
   "language": "python",
   "notebookMetadata": {
    "mostRecentlyExecutedCommandWithImplicitDF": {
     "commandId": 549416432701764,
     "dataframes": [
      "_sqldf"
     ]
    },
    "pythonIndentUnit": 4
   },
   "notebookName": "Ingestion-AgentData",
   "widgets": {}
  },
  "language_info": {
   "name": "python"
  }
 },
 "nbformat": 4,
 "nbformat_minor": 0
}
